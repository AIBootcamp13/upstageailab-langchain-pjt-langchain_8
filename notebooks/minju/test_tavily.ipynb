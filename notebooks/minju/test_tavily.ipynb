{
 "cells": [
  {
   "cell_type": "code",
   "execution_count": 1,
   "id": "f0b9e7d9",
   "metadata": {},
   "outputs": [],
   "source": [
    "import os\n",
    "\n",
    "from dotenv import load_dotenv\n",
    "from tavily import TavilyClient"
   ]
  },
  {
   "cell_type": "code",
   "execution_count": 3,
   "id": "c93afc13",
   "metadata": {},
   "outputs": [
    {
     "name": "stdout",
     "output_type": "stream",
     "text": [
      "🔑 API 키 확인:\n",
      "   ✅ API 키 존재: tvly-dev-g...0p8u (총 41자)\n"
     ]
    }
   ],
   "source": [
    "load_dotenv()\n",
    "tavily_api_key = os.getenv(\"TAVILY_API_KEY\")\n",
    "\n",
    "print(\"🔑 API 키 확인:\")\n",
    "if tavily_api_key:\n",
    "    print(f\"   ✅ API 키 존재: {tavily_api_key[:10]}...{tavily_api_key[-4:]} (총 {len(tavily_api_key)}자)\")\n",
    "else:\n",
    "    print(\"   ❌ API 키 없음\")"
   ]
  },
  {
   "cell_type": "code",
   "execution_count": 4,
   "id": "9553a743",
   "metadata": {},
   "outputs": [
    {
     "name": "stdout",
     "output_type": "stream",
     "text": [
      "\n",
      "🚀 Tavily 클라이언트 초기화:\n",
      "   ✅ 초기화 성공\n",
      "   📋 클라이언트 타입: <class 'tavily.tavily.TavilyClient'>\n",
      "   ✅ API 연결 테스트 성공\n"
     ]
    }
   ],
   "source": [
    "tavily = TavilyClient(api_key=tavily_api_key) if tavily_api_key else None\n",
    "\n",
    "print(\"\\n🚀 Tavily 클라이언트 초기화:\")\n",
    "if tavily:\n",
    "    print(\"   ✅ 초기화 성공\")\n",
    "    print(f\"   📋 클라이언트 타입: {type(tavily)}\")\n",
    "    # 간단한 연결 테스트\n",
    "    try:\n",
    "        test_result = tavily.search(query=\"test\", max_results=1)\n",
    "        print(\"   ✅ API 연결 테스트 성공\")\n",
    "    except Exception as e:\n",
    "        print(f\"   ❌ API 연결 테스트 실패: {e}\")\n",
    "else:\n",
    "    print(\"   ❌ 초기화 실패 (API 키 없음)\")"
   ]
  },
  {
   "cell_type": "code",
   "execution_count": null,
   "id": "0a89c6ea",
   "metadata": {},
   "outputs": [],
   "source": [
    "def fetch_web_context(query: str, max_results: int = 5) -> str:\n",
    "    snippet_len = 300\n",
    "    if not tavily:\n",
    "        return \"### Web Sources\\n웹 검색을 사용할 수 없습니다 (TAVILY_API_KEY가 설정되지 않음)\"\n",
    "\n",
    "    res: dict = tavily.search(query=query, max_results=max_results)\n",
    "    items: list[dict] = res.get(\"results\", [])\n",
    "\n",
    "    if not items:\n",
    "        return \"### Web Sources\\n검색 결과가 없습니다.\"\n",
    "\n",
    "    lines = [\"### Web Sources\"]\n",
    "    for i, item in enumerate(items, start=1):\n",
    "        title = (item.get(\"title\") or \"제목 없음\").strip()\n",
    "        url = (item.get(\"url\") or \"\").strip()\n",
    "        snippet = (item.get(\"content\") or item.get(\"snippet\") or \"\").strip()\n",
    "\n",
    "        if len(snippet) > snippet_len:\n",
    "            snippet = snippet[:300] + \"…\"\n",
    "\n",
    "        lines.append(f\"- [W{i}] **{title}** — {snippet}\\n  <{url}>\")\n",
    "\n",
    "    return \"\\n\".join(lines)"
   ]
  },
  {
   "cell_type": "code",
   "execution_count": 6,
   "id": "eb0c825f",
   "metadata": {},
   "outputs": [
    {
     "name": "stdout",
     "output_type": "stream",
     "text": [
      "\n",
      "🔍 검색어: OpenAI GPT-4 최신 뉴스\n",
      "==================================================\n",
      "### Web Sources\n",
      "- [W1] **오픈AI, 'GPT-4' 은퇴 예고…\"GPT-4o로 전면 교체\"** — 오픈AI가 대표 인공지능(AI) 모델이었던 'GPT-4'를 은퇴시킨다. 오픈AI는 11일(현지시간) 변경 로그를 통해 오는 30일부터 GPT-4를 '챗GPT'에서 제거, 'GPT-4o'로 전면 교체한다고 발표했다. GPT-4는 2023년 3월 출시, 그동안 챗GPT와 마이크로소프트(MS)의 '코파일럿'의 간판 역할을 해왔다. 그러나 2024년 5월 GPT-4o가 출시되며, 간판 타이틀을 내려 놓게 됐다. 한편, GPT-4의 폐기는 오픈AI가 새로운 AI 모델을 선보일 신호탄이 될 전망이다. 전날 AI 엔지니어 티보르 블라호에 따르면…\n",
      "  <https://www.aitimes.com/news/articleView.html?idxno=169569>\n",
      "- [W2] **뉴스** — *   Sora 로그인(새 창에서 열기) OpenAI o3 및 o4-mini를 소개합니다 릴리즈 2025년 4월 16일 Introducing GPT-4.1 in the API 제품 2025년 4월 14일 Scaling security with responsible disclosure 보안 2025년 6월 9일 Addendum to OpenAI o3 and o4-mini system card: OpenAI o3 Operator 안전 2025년 5월 23일 OpenAI Deutschland 기업 2025년 5월 22일 Introduci…\n",
      "  <https://openai.com/ko-KR/news/>\n",
      "- [W3] **인공지능 뉴스** — OpenAI의 최신 AI 챗봇 모델인 GPT-4o가 출시; 초고속, 초정밀 움직임을 보여주는 휴머노이드 로봇 영상이 화제 2024년4월28일 월요일 뉴스 바로가기. 초고속, 초정밀\n",
      "  <https://stberry.us/ai_news>\n",
      "\n",
      "\n",
      "\n",
      "🔍 검색어: Python 프로그래밍 트렌드 2024\n",
      "==================================================\n",
      "### Web Sources\n",
      "- [W1] **[개발/파이썬] 2024년 파이썬 최신 개발 트렌드 정리 - Steemit** — 타입 힌트 도입 확대: 파이썬 코드에 타입 정보를 추가해 가독성 향상과 사전 오류 방지를 기대할 수 있습니다. MyPy 같은 정적 분석 도구와 함께 사용하면 더욱 효과적\n",
      "  <https://steemit.com/kr/@anpigon/20241020t005536453z>\n",
      "- [W2] **2024년 파이썬 \"빠르고 강력하고 더 널리 쓰였다\" - ITWorld** — 2024년에 파이썬은 프로그래밍 언어의 티오베 지수에서 18%까지 상승해 언어의 사용률을 평가했다. 지금까지 이 수치를 달성한 유일한 언어는 2016년의\n",
      "  <https://www.itworld.co.kr/article/3630561/2024%EB%85%84-%ED%8C%8C%EC%9D%B4%EC%8D%AC-%EB%B9%A0%EB%A5%B4%EA%B3%A0-%EA%B0%95%EB%A0%A5%ED%95%98%EA%B3%A0-%EB%8D%94-%EB%84%90%EB%A6%AC-%EC%93%B0%EC%98%80%EB%8B%A4.html>\n",
      "- [W3] **“부동의 1위” 파이썬, 2024년 티오베 올해의 언어 선정 - ITWorld** — 이미 가장 인기 있는 프로그래밍 언어로 평가받고 있음에도 불구하고, 파이썬은 2024년 한 해 동안 티오베 인기 지수에서 무려 9.3%의 상승률을 기록했다.\n",
      "  <https://www.itworld.co.kr/article/3632450/%EB%B6%80%EB%8F%99%EC%9D%98-1%EC%9C%84-%ED%8C%8C%EC%9D%B4%EC%8D%AC-2024%EB%85%84-%ED%8B%B0%EC%98%A4%EB%B2%A0-%EC%98%AC%ED%95%B4%EC%9D%98-%EC%96%B8%EC%96%B4-%EC%84%A0%EC%A0%95.html>\n",
      "\n",
      "\n",
      "\n",
      "🔍 검색어: 인공지능 윤리\n",
      "==================================================\n",
      "### Web Sources\n",
      "- [W1] **인공지능 윤리의 중요성과 기본 원칙 이해하기 - 알체라** — 인공지능 윤리는 AI 기술의 발전과 함께 발생할 수 있는 윤리적 딜레마를 해결하는 데 필수적입니다. 예를 들어, 알고리즘의 편향성이나 데이터 보호 문제는 사회적 불평등을 초래할 수 있으며, 이러한 문제를 해결하기 위해 인공지능 윤리가 필요합니다. 인공지능 윤리적 딜레마는 AI 기술이 가져오는 복잡한 윤리적 문제를 의미합니다. 윤리적 책임을 다하면, AI 기술은 효율성을 높일 뿐만 아니라, 사회적 가치도 창출할 수 있습니다. 이는 AI 개발과 사용 과정에서 발생할 수 있는 윤리적 문제를 예방하고 해결하기 위한 명확한 기준을 제공합니다…\n",
      "  <https://www.alchera.ai/resource/blog/artificial-intelligence-ethics>\n",
      "- [W2] **인공지능 윤리(AI Ethics)란 무엇인가? (개념/사례/가이드라인) | 블로그** — * 공익 증진을 위한 인공지능 개발 및 활용은 사회적, 국가적, 나아가 글로벌 관점에서 인류의 보편적 복지를 향상시킬 수 있어야 한다. * 인공지능 개발 및 활용 전 단계에서 사용자의 다양성과 대표성을 반영해야 하며, 성별·연령·장애·지역·인종·종교·국가 등 개인 특성에 따른 편향과 차별을 최소화하고, 상용화된 인공지능은 모든 사람에게 공정하게 적용되어야 한다. * 인공지능 개발 및 활용과정에서 책임주체를 설정함으로써 발생할 수 있는 피해를 최소화하도록 노력해야 한다. * 인공지능 개발 및 활용 전 과정에 걸쳐 잠재적 위험을 방지하…\n",
      "  <https://modulabs.co.kr/blog/ai-ethics>\n",
      "- [W3] **[PDF] 인공지능 윤리(AI Ethics):** — 이에 따라 세계 각국 정부와. 기업은 AI에 의한 위험과 부작용을 방지하기 위해 AI 윤리 원칙과 법·제도 등을 발표하고 있으며, 국내 정부도 AI 윤리·신.\n",
      "  <https://repository.kisti.re.kr/bitstream/10580/19041/1/KISTI%20%EC%9D%B4%EC%8A%88%EB%B8%8C%EB%A6%AC%ED%94%84%20%EC%A0%9C68%ED%98%B8.pdf>\n",
      "\n",
      "\n"
     ]
    }
   ],
   "source": [
    "if __name__ == \"__main__\":\n",
    "    # 테스트 쿼리들\n",
    "    test_queries = [\"OpenAI GPT-4 최신 뉴스\", \"Python 프로그래밍 트렌드 2024\", \"인공지능 윤리\"]\n",
    "\n",
    "    for query in test_queries:\n",
    "        print(f\"\\n🔍 검색어: {query}\")\n",
    "        print(\"=\" * 50)\n",
    "        result = fetch_web_context(query, max_results=3)\n",
    "        print(result)\n",
    "        print(\"\\n\")"
   ]
  }
 ],
 "metadata": {
  "kernelspec": {
   "display_name": "langchain-project",
   "language": "python",
   "name": "python3"
  },
  "language_info": {
   "codemirror_mode": {
    "name": "ipython",
    "version": 3
   },
   "file_extension": ".py",
   "mimetype": "text/x-python",
   "name": "python",
   "nbconvert_exporter": "python",
   "pygments_lexer": "ipython3",
   "version": "3.11.11"
  }
 },
 "nbformat": 4,
 "nbformat_minor": 5
}
