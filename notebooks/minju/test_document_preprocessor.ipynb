{
 "cells": [
  {
   "cell_type": "code",
   "execution_count": 3,
   "id": "63087e22",
   "metadata": {},
   "outputs": [
    {
     "name": "stdout",
     "output_type": "stream",
     "text": [
      "/workspace/upstageailab-langchain-pjt-langchain_8/notebooks/minju\n"
     ]
    }
   ],
   "source": [
    "from pathlib import Path\n",
    "\n",
    "\n",
    "current_path = Path().resolve()\n",
    "print(current_path)"
   ]
  },
  {
   "cell_type": "code",
   "execution_count": null,
   "id": "6f3ba866",
   "metadata": {},
   "outputs": [],
   "source": [
    "import json\n",
    "import os\n",
    "from pathlib import Path\n",
    "\n",
    "from langchain_core.documents import Document\n",
    "from langchain_upstage.document_parse import UpstageDocumentParseLoader"
   ]
  },
  {
   "cell_type": "code",
   "execution_count": 2,
   "id": "752f3d37",
   "metadata": {},
   "outputs": [],
   "source": [
    "assert os.getenv(\"UPSTAGE_API_KEY\"), \"환경변수 UPSTAGE_API_KEY가 필요합니다.\""
   ]
  },
  {
   "cell_type": "code",
   "execution_count": 3,
   "id": "35bc9405",
   "metadata": {},
   "outputs": [],
   "source": [
    "FILEPATH = Path(\n",
    "    \"/workspace/upstageailab-langchain-pjt-langchain_8/data/Part 2. RAG with LLamaIndex.pdf\"\n",
    ")  # 예: Path(\"data/source_pdfs/sample.pdf\")\n",
    "assert FILEPATH.exists(), f\"파일이 존재하지 않습니다: {FILEPATH}\""
   ]
  },
  {
   "cell_type": "code",
   "execution_count": 4,
   "id": "860795a4",
   "metadata": {},
   "outputs": [
    {
     "name": "stdout",
     "output_type": "stream",
     "text": [
      "로드된 Document 개수: 34\n"
     ]
    }
   ],
   "source": [
    "# --- 2) Loader로 문서 파싱 (페이지 단위 + Markdown) ---\n",
    "# coordinates 옵션은 라이브러리 버전에 따라 기본 포함됩니다.\n",
    "# 별도 옵션 없이도 metadata에 'coordinates'가 있는지 확인해 보세요.\n",
    "loader = UpstageDocumentParseLoader(\n",
    "    FILEPATH,\n",
    "    api_key=os.environ[\"UPSTAGE_API_KEY\"],\n",
    "    split=\"page\",  # 페이지 단위로 Document 생성\n",
    "    output_format=\"markdown\",  # 본문은 markdown 텍스트\n",
    ")\n",
    "\n",
    "docs: list[Document] = loader.load()\n",
    "print(f\"로드된 Document 개수: {len(docs)}\")"
   ]
  },
  {
   "cell_type": "code",
   "execution_count": null,
   "id": "e85ec96d",
   "metadata": {},
   "outputs": [
    {
     "name": "stdout",
     "output_type": "stream",
     "text": [
      "================================================================================\n",
      "[샘플 Document #1]\n",
      "- page_content (앞 400자) -\n",
      "# RAG를 활용한 완성도 높은 LLM 서비스 구축 # With Langchain & LLamaIndex\n",
      "- metadata keys -\n",
      "['page', 'coordinates']\n",
      "- metadata preview -\n",
      "  coordinates: (길이/타입만 확인) <class 'list'> len=2\n",
      "{'page': 1}\n",
      "================================================================================\n",
      "[샘플 Document #2]\n",
      "- page_content (앞 400자) -\n",
      "PART # RAG with LlamaIndex\n",
      "- metadata keys -\n",
      "['page', 'coordinates']\n",
      "- metadata preview -\n",
      "  coordinates: (길이/타입만 확인) <class 'list'> len=2\n",
      "{'page': 2}\n"
     ]
    }
   ],
   "source": [
    "PREVIEW_LEN = 400\n",
    "\n",
    "for i, d in enumerate(docs[:2], start=1):\n",
    "    print(\"=\" * 80)\n",
    "    print(f\"[샘플 Document #{i}]\")\n",
    "    print(\"- page_content (앞 400자) -\")\n",
    "    print(d.page_content[:400].strip().replace(\"\\n\", \" \") + (\" ...\" if len(d.page_content) > PREVIEW_LEN else \"\"))\n",
    "    print(\"- metadata keys -\")\n",
    "    print(list(d.metadata.keys()))\n",
    "    print(\"- metadata preview -\")\n",
    "    # 좌표가 있으면 preview만; 너무 크면 전부 출력하지 말고 일부만 보자\n",
    "    meta = dict(d.metadata)\n",
    "    if \"coordinates\" in meta:\n",
    "        coords = meta.pop(\"coordinates\")\n",
    "        print(\n",
    "            \"  coordinates: (길이/타입만 확인)\",\n",
    "            type(coords),\n",
    "            f\"len={len(coords) if hasattr(coords, '__len__') else 'N/A'}\",\n",
    "        )\n",
    "    print(json.dumps(meta, ensure_ascii=False, indent=2, default=str))"
   ]
  },
  {
   "cell_type": "code",
   "execution_count": null,
   "id": "5ee98e65",
   "metadata": {},
   "outputs": [
    {
     "name": "stdout",
     "output_type": "stream",
     "text": [
      "\n",
      "[coordinates 예시 1~3개만 보기]\n",
      "  - item#1:\n",
      "[{'x': 0.0366, 'y': 0.4041},\n",
      " {'x': 0.4999, 'y': 0.4041},\n",
      " {'x': 0.4999, 'y': 0.4627},\n",
      " {'x': 0.0366, 'y': 0.4627}]\n",
      "  - item#2:\n",
      "[{'x': 0.0369, 'y': 0.5311},\n",
      " {'x': 0.4078, 'y': 0.5311},\n",
      " {'x': 0.4078, 'y': 0.587},\n",
      " {'x': 0.0369, 'y': 0.587}]\n"
     ]
    }
   ],
   "source": [
    "if docs and \"coordinates\" in docs[0].metadata:\n",
    "    coords0 = docs[0].metadata[\"coordinates\"]\n",
    "    print(\"\\n[coordinates 예시 1~3개만 보기]\")\n",
    "    if isinstance(coords0, list):\n",
    "        for j, c in enumerate(coords0[:3], start=1):\n",
    "            print(f\"  - item#{j}:\")\n",
    "            print(json.dumps(c, ensure_ascii=False, indent=2, default=str))\n",
    "    else:\n",
    "        print(json.dumps(coords0, ensure_ascii=False, indent=2, default=str))"
   ]
  },
  {
   "cell_type": "code",
   "execution_count": null,
   "id": "f05a15f1",
   "metadata": {},
   "outputs": [],
   "source": []
  }
 ],
 "metadata": {
  "kernelspec": {
   "display_name": "langchain-project",
   "language": "python",
   "name": "python3"
  },
  "language_info": {
   "codemirror_mode": {
    "name": "ipython",
    "version": 3
   },
   "file_extension": ".py",
   "mimetype": "text/x-python",
   "name": "python",
   "nbconvert_exporter": "python",
   "pygments_lexer": "ipython3",
   "version": "3.11.11"
  }
 },
 "nbformat": 4,
 "nbformat_minor": 5
}
