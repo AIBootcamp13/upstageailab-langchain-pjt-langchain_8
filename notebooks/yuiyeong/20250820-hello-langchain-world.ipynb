{
 "cells": [
  {
   "cell_type": "markdown",
   "id": "dd2bfe3f51b1babb",
   "metadata": {},
   "source": [
    "## Ollama 로 Langchain 사용해보기"
   ]
  },
  {
   "cell_type": "code",
   "execution_count": null,
   "id": "2fc895d921d04eb2",
   "metadata": {},
   "outputs": [],
   "source": [
    "from dotenv import load_dotenv\n",
    "from langchain_core.messages import AIMessage, HumanMessage, SystemMessage\n",
    "from langchain_core.output_parsers import JsonOutputParser, StrOutputParser\n",
    "from langchain_core.prompts import ChatPromptTemplate, PromptTemplate\n",
    "from langchain_core.runnables import RunnablePassthrough\n",
    "from langchain_ollama import ChatOllama\n",
    "from langchain_openai import ChatOpenAI\n",
    "from langchain_upstage import ChatUpstage\n",
    "from pydantic import BaseModel, Field"
   ]
  },
  {
   "cell_type": "code",
   "execution_count": 1,
   "id": "initial_id",
   "metadata": {
    "ExecuteTime": {
     "end_time": "2025-08-20T00:59:10.978396Z",
     "start_time": "2025-08-20T00:59:10.173563Z"
    },
    "collapsed": true
   },
   "outputs": [
    {
     "data": {
      "text/plain": [
       "AIMessage(content='한국의 수도는 **서울특별시**입니다.\\n', additional_kwargs={}, response_metadata={'model': 'gemma3:4b', 'created_at': '2025-08-20T00:59:10.971852Z', 'done': True, 'done_reason': 'stop', 'total_duration': 366843666, 'load_duration': 67000625, 'prompt_eval_count': 15, 'prompt_eval_duration': 148017541, 'eval_count': 11, 'eval_duration': 151394625, 'model_name': 'gemma3:4b'}, id='run--6c0724e5-0378-487b-9edd-1dda8f53ac09-0', usage_metadata={'input_tokens': 15, 'output_tokens': 11, 'total_tokens': 26})"
      ]
     },
     "execution_count": 1,
     "metadata": {},
     "output_type": "execute_result"
    }
   ],
   "source": [
    "llm = ChatOllama(model=\"gemma3:4b\")\n",
    "llm.invoke(\"한국의 수도를 알려줘\")"
   ]
  },
  {
   "cell_type": "markdown",
   "id": "c33cb0037b2def74",
   "metadata": {},
   "source": [
    "## OpenAI 의 모델로 Langchain 사용해보기"
   ]
  },
  {
   "cell_type": "code",
   "execution_count": 2,
   "id": "139b5649eb788516",
   "metadata": {
    "ExecuteTime": {
     "end_time": "2025-08-20T00:59:14.893901Z",
     "start_time": "2025-08-20T00:59:10.993094Z"
    }
   },
   "outputs": [
    {
     "data": {
      "text/plain": [
       "AIMessage(content='대한민국(한국)의 수도는 서울특별시(Seoul)입니다.  \\n참고로 북한(조선민주주의인민공화국)의 수도는 평양입니다.', additional_kwargs={'refusal': None}, response_metadata={'token_usage': {'completion_tokens': 241, 'prompt_tokens': 13, 'total_tokens': 254, 'completion_tokens_details': {'accepted_prediction_tokens': 0, 'audio_tokens': 0, 'reasoning_tokens': 192, 'rejected_prediction_tokens': 0}, 'prompt_tokens_details': {'audio_tokens': 0, 'cached_tokens': 0}}, 'model_name': 'gpt-5-mini-2025-08-07', 'system_fingerprint': None, 'id': 'chatcmpl-C6RSR1zVqMaQF3a0TfIkS6cWIGW5c', 'service_tier': 'default', 'finish_reason': 'stop', 'logprobs': None}, id='run--83dd3d73-25a5-4e9a-aa7f-025509f7ab6a-0', usage_metadata={'input_tokens': 13, 'output_tokens': 241, 'total_tokens': 254, 'input_token_details': {'audio': 0, 'cache_read': 0}, 'output_token_details': {'audio': 0, 'reasoning': 192}})"
      ]
     },
     "execution_count": 2,
     "metadata": {},
     "output_type": "execute_result"
    }
   ],
   "source": [
    "load_dotenv()  # OPENAI_API_KEY 환경 변수를 가져오기 위해서\n",
    "\n",
    "openai_llm = ChatOpenAI(model=\"gpt-5-mini\")\n",
    "openai_llm.invoke(\"한국의 수도를 알려줘.\")"
   ]
  },
  {
   "cell_type": "markdown",
   "id": "3b645e694e7f08e2",
   "metadata": {},
   "source": [
    "## Upstage 의 모델로 Langchain 사용해보기"
   ]
  },
  {
   "cell_type": "code",
   "execution_count": 3,
   "id": "502266df785ae04e",
   "metadata": {
    "ExecuteTime": {
     "end_time": "2025-08-20T00:59:16.347436Z",
     "start_time": "2025-08-20T00:59:14.960120Z"
    }
   },
   "outputs": [
    {
     "data": {
      "text/plain": [
       "AIMessage(content='한국의 수도는 **서울**입니다.  \\n서울은 정치, 경제, 문화의 중심지로, 1948년 대한민국 정부 수립 이후 공식적인 수도로 지정되어 현재까지 이어져 오고 있습니다.  \\n\\n혹시 서울에 대한 추가적인 정보(예: 역사, 관광명소 등)가 필요하시면 언제든 질문해 주세요! 😊', additional_kwargs={'refusal': None}, response_metadata={'token_usage': {'completion_tokens': 64, 'prompt_tokens': 18, 'total_tokens': 82, 'completion_tokens_details': {'accepted_prediction_tokens': 0, 'audio_tokens': 0, 'reasoning_tokens': 0, 'rejected_prediction_tokens': 0}, 'prompt_tokens_details': {'audio_tokens': 0, 'cached_tokens': 0}}, 'model_name': 'solar-pro2-250710', 'system_fingerprint': None, 'id': 'e9325f6d-a04a-46ef-ab2f-7d4206353c17', 'service_tier': None, 'finish_reason': 'stop', 'logprobs': None}, id='run--fa256e4f-9877-4cf4-8fa1-6c8c4549618e-0', usage_metadata={'input_tokens': 18, 'output_tokens': 64, 'total_tokens': 82, 'input_token_details': {'audio': 0, 'cache_read': 0}, 'output_token_details': {'audio': 0, 'reasoning': 0}})"
      ]
     },
     "execution_count": 3,
     "metadata": {},
     "output_type": "execute_result"
    }
   ],
   "source": [
    "upstage_llm = ChatUpstage(model=\"solar-pro2\")\n",
    "upstage_llm.invoke(\"한국의 수도는?\")"
   ]
  },
  {
   "cell_type": "markdown",
   "id": "468ea853c11dd3f1",
   "metadata": {},
   "source": [
    "## Prompt 와 함께 사용해보기"
   ]
  },
  {
   "cell_type": "code",
   "execution_count": 4,
   "id": "f4b342eb43a45a40",
   "metadata": {
    "ExecuteTime": {
     "end_time": "2025-08-20T00:59:16.388881Z",
     "start_time": "2025-08-20T00:59:16.366321Z"
    }
   },
   "outputs": [
    {
     "name": "stdout",
     "output_type": "stream",
     "text": [
      "자료형: <class 'langchain_core.prompt_values.StringPromptValue'>\n",
      "text='우리나라의 수도가 어디야?'\n"
     ]
    }
   ],
   "source": [
    "prompt_template = PromptTemplate(template=\"{country}의 수도가 어디야?\", input_variables=[\"country\"])\n",
    "\n",
    "# country 대신에 넣어준 \"우리나라\"가 들어간 PromptValue 를 반환\n",
    "result = prompt_template.invoke({\"country\": \"우리나라\"})\n",
    "print(\"자료형:\", type(result))\n",
    "print(result)"
   ]
  },
  {
   "cell_type": "code",
   "execution_count": 5,
   "id": "87af81af3c02c76",
   "metadata": {
    "ExecuteTime": {
     "end_time": "2025-08-20T00:59:16.765611Z",
     "start_time": "2025-08-20T00:59:16.394526Z"
    }
   },
   "outputs": [
    {
     "data": {
      "text/plain": [
       "AIMessage(content='우리나라의 수도는 서울입니다.', additional_kwargs={}, response_metadata={'model': 'gemma3:4b', 'created_at': '2025-08-20T00:59:16.763555Z', 'done': True, 'done_reason': 'stop', 'total_duration': 366486458, 'load_duration': 66585916, 'prompt_eval_count': 17, 'prompt_eval_duration': 181262833, 'eval_count': 9, 'eval_duration': 118135667, 'model_name': 'gemma3:4b'}, id='run--25b9d7bb-2591-4cc4-ae71-5e17dbe97599-0', usage_metadata={'input_tokens': 17, 'output_tokens': 9, 'total_tokens': 26})"
      ]
     },
     "execution_count": 5,
     "metadata": {},
     "output_type": "execute_result"
    }
   ],
   "source": [
    "# BaseChatModel 은 invoke 함수에 PromptValue 또는 str 을 받을 수 있다!\n",
    "llm.invoke(result)"
   ]
  },
  {
   "cell_type": "code",
   "execution_count": 6,
   "id": "b2b35761035edfd1",
   "metadata": {
    "ExecuteTime": {
     "end_time": "2025-08-20T00:59:17.653186Z",
     "start_time": "2025-08-20T00:59:16.773033Z"
    }
   },
   "outputs": [
    {
     "data": {
      "text/plain": [
       "AIMessage(content='이탈리아의 수도는 로마입니다. \\n\\n로마는 역사와 문화가 풍부한 도시로, 콜로세움, 포로 로마노, 바티칸 등 유명한 유적지와 박물관이 많습니다.', additional_kwargs={}, response_metadata={'model': 'gemma3:4b', 'created_at': '2025-08-20T00:59:17.650757Z', 'done': True, 'done_reason': 'stop', 'total_duration': 876177791, 'load_duration': 45670666, 'prompt_eval_count': 18, 'prompt_eval_duration': 54519833, 'eval_count': 53, 'eval_duration': 775500500, 'model_name': 'gemma3:4b'}, id='run--977f580d-05ea-4b5e-a7c4-300fa3ac9ff4-0', usage_metadata={'input_tokens': 18, 'output_tokens': 53, 'total_tokens': 71})"
      ]
     },
     "execution_count": 6,
     "metadata": {},
     "output_type": "execute_result"
    }
   ],
   "source": [
    "# 최종적으로\n",
    "llm.invoke(prompt_template.invoke({\"country\": \"이탈리아\"}))"
   ]
  },
  {
   "cell_type": "markdown",
   "id": "f6f71fd186fe155",
   "metadata": {},
   "source": [
    "- llm.invoke 에는 PromptValue 말고도, BaseMessage 를 상속 받는 AIMessage, HumanMessage, SystemMessage, ToolMessage 등을 가지고 list 를 만들어 넣어줄 수 있다."
   ]
  },
  {
   "cell_type": "code",
   "execution_count": 7,
   "id": "e4372a9d74ec5a6c",
   "metadata": {
    "ExecuteTime": {
     "end_time": "2025-08-20T00:59:17.859292Z",
     "start_time": "2025-08-20T00:59:17.664907Z"
    }
   },
   "outputs": [
    {
     "data": {
      "text/plain": [
       "AIMessage(content='파리', additional_kwargs={}, response_metadata={'model': 'gemma3:4b', 'created_at': '2025-08-20T00:59:17.85646Z', 'done': True, 'done_reason': 'stop', 'total_duration': 189652541, 'load_duration': 46351541, 'prompt_eval_count': 74, 'prompt_eval_duration': 108126292, 'eval_count': 3, 'eval_duration': 29278250, 'model_name': 'gemma3:4b'}, id='run--75ae2c65-8a54-45ca-8385-fe8e66706717-0', usage_metadata={'input_tokens': 74, 'output_tokens': 3, 'total_tokens': 77})"
      ]
     },
     "execution_count": 7,
     "metadata": {},
     "output_type": "execute_result"
    }
   ],
   "source": [
    "message_list = [\n",
    "    SystemMessage(\n",
    "        content=\"당신의 세계 여러 나라들의 수도를 알고 있는 지리학자입니다. 사용자가 특정 나라의 수도를 물어보면 그 나라의 수도를 알려주세요.\"\n",
    "    ),\n",
    "    HumanMessage(content=\"한국의 수도가 어디야?\"),\n",
    "    AIMessage(content=\"서울\"),\n",
    "    HumanMessage(content=\"프랑스의 수도가 어디야?\"),\n",
    "]\n",
    "\n",
    "llm.invoke(message_list)"
   ]
  },
  {
   "cell_type": "markdown",
   "id": "e5ba070ce00d8d9b",
   "metadata": {},
   "source": [
    "- 좀 더 langchain 스럽게 작성해보기"
   ]
  },
  {
   "cell_type": "code",
   "execution_count": 8,
   "id": "f18cdbe285696213",
   "metadata": {
    "ExecuteTime": {
     "end_time": "2025-08-20T00:59:17.893881Z",
     "start_time": "2025-08-20T00:59:17.873089Z"
    }
   },
   "outputs": [
    {
     "data": {
      "text/plain": [
       "ChatPromptValue(messages=[SystemMessage(content='당신의 세계 여러 나라들의 수도를 알고 있는 지리학자입니다. 사용자가 특정 나라의 수도를 물어보면 그 나라의 수도를 알려주세요.', additional_kwargs={}, response_metadata={}), HumanMessage(content='한국의 수도가 어디야?', additional_kwargs={}, response_metadata={}), AIMessage(content='서울', additional_kwargs={}, response_metadata={}), HumanMessage(content='스페인의 수도가 어디야?', additional_kwargs={}, response_metadata={})])"
      ]
     },
     "execution_count": 8,
     "metadata": {},
     "output_type": "execute_result"
    }
   ],
   "source": [
    "chat_prompt_template = ChatPromptTemplate.from_messages(\n",
    "    [\n",
    "        (\n",
    "            \"system\",\n",
    "            \"당신의 세계 여러 나라들의 수도를 알고 있는 지리학자입니다. 사용자가 특정 나라의 수도를 물어보면 그 나라의 수도를 알려주세요.\",\n",
    "        ),\n",
    "        (\"human\", \"한국의 수도가 어디야?\"),\n",
    "        (\"ai\", \"서울\"),\n",
    "        (\"human\", \"{country}의 수도가 어디야?\"),  # country 를 넣기 위해서는 tuple list 로 넣어주어야 한다.\n",
    "    ]\n",
    ")\n",
    "\n",
    "chat_prompt_template.invoke({\"country\": \"스페인\"})"
   ]
  },
  {
   "cell_type": "markdown",
   "id": "59bc93b69608eeb9",
   "metadata": {},
   "source": [
    "## AIMessage 에서 필요한 부분(content)만 가져오기"
   ]
  },
  {
   "cell_type": "markdown",
   "id": "5190fb6befa94066",
   "metadata": {},
   "source": [
    "### StrOutputParser"
   ]
  },
  {
   "cell_type": "code",
   "execution_count": 9,
   "id": "d081e89df0088471",
   "metadata": {
    "ExecuteTime": {
     "end_time": "2025-08-20T00:59:18.110862Z",
     "start_time": "2025-08-20T00:59:17.901598Z"
    }
   },
   "outputs": [
    {
     "data": {
      "text/plain": [
       "'한국의 수도는 서울입니다.'"
      ]
     },
     "execution_count": 9,
     "metadata": {},
     "output_type": "execute_result"
    }
   ],
   "source": [
    "output_parser = StrOutputParser()\n",
    "\n",
    "answer = output_parser.invoke(llm.invoke(\"한국의 수도는 어디야?\"))\n",
    "answer"
   ]
  },
  {
   "cell_type": "code",
   "execution_count": 10,
   "id": "930ff281bcfc6803",
   "metadata": {
    "ExecuteTime": {
     "end_time": "2025-08-20T00:59:18.305086Z",
     "start_time": "2025-08-20T00:59:18.119353Z"
    }
   },
   "outputs": [
    {
     "data": {
      "text/plain": [
       "'방콕'"
      ]
     },
     "execution_count": 10,
     "metadata": {},
     "output_type": "execute_result"
    }
   ],
   "source": [
    "answer = output_parser.invoke(llm.invoke(chat_prompt_template.invoke({\"country\": \"태국\"})))\n",
    "answer"
   ]
  },
  {
   "cell_type": "markdown",
   "id": "f8f3dcf9b0b67e24",
   "metadata": {},
   "source": [
    "### JsonOutputParser\n",
    "- _이것을 사용하기 보다는 pydantic 을 활용한 StructuredOutputParser 를 사용하는 것이 더 좋음_"
   ]
  },
  {
   "cell_type": "code",
   "execution_count": 11,
   "id": "76cbd36caf809fd8",
   "metadata": {
    "ExecuteTime": {
     "end_time": "2025-08-20T00:59:18.959447Z",
     "start_time": "2025-08-20T00:59:18.313153Z"
    }
   },
   "outputs": [
    {
     "name": "stdout",
     "output_type": "stream",
     "text": [
      "before\n",
      "content='```json\\n{\\n  \"country\": \"Korea\",\\n  \"capital\": \"Seoul\",\\n  \"currency\": \"Korean Won (KRW)\"\\n}\\n```' additional_kwargs={} response_metadata={'model': 'gemma3:4b', 'created_at': '2025-08-20T00:59:18.956708Z', 'done': True, 'done_reason': 'stop', 'total_duration': 640863541, 'load_duration': 43314833, 'prompt_eval_count': 33, 'prompt_eval_duration': 55224000, 'eval_count': 37, 'eval_duration': 541944208, 'model_name': 'gemma3:4b'} id='run--7c550e98-9736-4df9-8a60-b85010794508-0' usage_metadata={'input_tokens': 33, 'output_tokens': 37, 'total_tokens': 70}\n",
      "\n",
      "after\n"
     ]
    },
    {
     "data": {
      "text/plain": [
       "{'country': 'Korea', 'capital': 'Seoul', 'currency': 'Korean Won (KRW)'}"
      ]
     },
     "execution_count": 11,
     "metadata": {},
     "output_type": "execute_result"
    }
   ],
   "source": [
    "json_output_parser = JsonOutputParser()\n",
    "\n",
    "currency_template = PromptTemplate(\n",
    "    template=\"\"\"{country}의 다음 정보를 알려줘.\n",
    "1. capital 2. currency\n",
    "Json 형식으로 작성해줘.\n",
    "\"\"\",\n",
    "    input_variables=[\"country\"],\n",
    ")\n",
    "ai_message = llm.invoke(currency_template.invoke({\"country\": \"한국\"}))\n",
    "print(\"before\")\n",
    "print(ai_message)\n",
    "print()\n",
    "\n",
    "print(\"after\")\n",
    "json_output_parser.invoke(ai_message)\n",
    "# json 형식으로 작성해달라고 했으나, 때때로 그 외의 내용을 덧붙일 때가 있을 수 있다! -> JsonOutputParser 는 에러"
   ]
  },
  {
   "cell_type": "markdown",
   "id": "54cccc26c7e25645",
   "metadata": {
    "ExecuteTime": {
     "end_time": "2025-08-19T16:52:11.614562Z",
     "start_time": "2025-08-19T16:52:11.612919Z"
    }
   },
   "source": [
    "#### Pydantic 을 사용해서 더 안전하게 Json 형식 만들기"
   ]
  },
  {
   "cell_type": "code",
   "execution_count": 12,
   "id": "94329d3a7eac98a0",
   "metadata": {
    "ExecuteTime": {
     "end_time": "2025-08-20T00:59:19.561256Z",
     "start_time": "2025-08-20T00:59:18.967379Z"
    }
   },
   "outputs": [
    {
     "name": "stdout",
     "output_type": "stream",
     "text": [
      "자료형: <class '__main__.CountryDetail'>\n",
      "capital='서울 (Seoul)' currency='원 (KRW)'\n"
     ]
    }
   ],
   "source": [
    "class CountryDetail(BaseModel):\n",
    "    capital: str = Field(description=\"수도\")\n",
    "    currency: str = Field(description=\"통화 단위\")\n",
    "\n",
    "\n",
    "structured_llm = llm.with_structured_output(CountryDetail)\n",
    "answer = structured_llm.invoke(currency_template.invoke({\"country\": \"한국\"}))\n",
    "\n",
    "print(\"자료형:\", type(answer))\n",
    "print(answer)"
   ]
  },
  {
   "cell_type": "markdown",
   "id": "5dfea777369d4ad3",
   "metadata": {},
   "source": [
    "## 비로소 Chain 만들어보기"
   ]
  },
  {
   "cell_type": "code",
   "execution_count": 13,
   "id": "c09911df8d4df97a",
   "metadata": {
    "ExecuteTime": {
     "end_time": "2025-08-20T00:59:20.439412Z",
     "start_time": "2025-08-20T00:59:19.570723Z"
    }
   },
   "outputs": [
    {
     "name": "stdout",
     "output_type": "stream",
     "text": [
      "<class 'langchain_core.runnables.base.RunnableSequence'>\n",
      "result of chain: 프랑스의 수도는 파리입니다. \n",
      "\n",
      "파리는 유럽에서 가장 유명하고 역사가 깊은 도시 중 하나이며, 에펠탑, 루브르 박물관 등 세계적으로 유명한 관광 명소로 가득합니다.\n"
     ]
    }
   ],
   "source": [
    "chain = prompt_template | llm | output_parser\n",
    "print(type(chain))\n",
    "print(\"result of chain:\", chain.invoke({\"country\": \"프랑스\"}))  # chain 도 invoke 함수가 있는 Runnable!"
   ]
  },
  {
   "cell_type": "markdown",
   "id": "8d764ddf08b6f1de",
   "metadata": {},
   "source": [
    "### Chain 2개 연결해보기!"
   ]
  },
  {
   "cell_type": "code",
   "execution_count": 14,
   "id": "33b0f320096964",
   "metadata": {
    "ExecuteTime": {
     "end_time": "2025-08-20T00:59:20.576969Z",
     "start_time": "2025-08-20T00:59:20.455719Z"
    }
   },
   "outputs": [
    {
     "data": {
      "text/plain": [
       "'서울'"
      ]
     },
     "execution_count": 14,
     "metadata": {},
     "output_type": "execute_result"
    }
   ],
   "source": [
    "capital_prompt = PromptTemplate(\n",
    "    template=\"{country}의 수도를 알려줘. 수도 한 단어만 작성해줘.\", input_variables=[\"country\"]\n",
    ")\n",
    "capital_chain = capital_prompt | llm | output_parser\n",
    "capital_chain.invoke({\"country\": \"한국\"})"
   ]
  },
  {
   "cell_type": "code",
   "execution_count": 15,
   "id": "f99b1733f321385a",
   "metadata": {
    "ExecuteTime": {
     "end_time": "2025-08-20T00:59:25.394846Z",
     "start_time": "2025-08-20T00:59:20.584581Z"
    }
   },
   "outputs": [
    {
     "data": {
      "text/plain": [
       "'## 서울특별시 정보\\n\\n**1. 나라:** 대한민국 (South Korea)\\n\\n**2. 인구 수 (2023년 12월 31일 기준):** 약 967만 명 (대한민국 전체 인구의 약 19.6%)\\n\\n**3. 특산품:**\\n\\n서울은 대한민국 수도로서 다양한 특산품이 발효되고 가공되는 곳입니다. 대표적인 특산품은 다음과 같습니다.\\n\\n*   **쌀:** 대한민국 전체 쌀 생산량의 약 30%를 차지하며, 다양한 종류의 쌀이 생산됩니다.\\n*   **김:** 해산물과 함께 한국 음식의 대표적인 재료로, 다양한 종류의 김(갈치김, 명태김, 꼬막김 등)이 생산됩니다.\\n*   **약:** 오랜 역사와 전통을 가진 약 제조 중심지로, 다양한 종류의 약품이 생산됩니다.\\n*   **식품:** 다양한 종류의 반찬, 김치, 젓갈, 어묵, 떡 등 한국 전통 음식 재료가 생산됩니다.\\n*   **건축 자재:**  건축 산업의 중심지로서, 다양한 건축 자재가 생산됩니다.\\n*   **IT 제품:** IT 산업의 중심지로서, 컴퓨터, 스마트폰, 전자제품 등 다양한 IT 제품이 생산됩니다.\\n\\n**참고:** 서울은 대한민국 경제, 문화, 정치의 중심지로서, 다양한 산업과 문화가 발달되어 있습니다.'"
      ]
     },
     "execution_count": 15,
     "metadata": {},
     "output_type": "execute_result"
    }
   ],
   "source": [
    "detail_prompt = PromptTemplate(\n",
    "    template=\"{province}에 대해서 나라, 인구 수, 특산품 순으로 작성해줘.\", input_variables=[\"province\"]\n",
    ")\n",
    "detail_chain = detail_prompt | llm | output_parser\n",
    "detail_chain.invoke({\"province\": \"서울\"})"
   ]
  },
  {
   "cell_type": "code",
   "execution_count": 16,
   "id": "574b488062902c",
   "metadata": {
    "ExecuteTime": {
     "end_time": "2025-08-20T00:59:32.972137Z",
     "start_time": "2025-08-20T00:59:25.413105Z"
    }
   },
   "outputs": [
    {
     "data": {
      "text/plain": [
       "'## 파리에 대해\\n\\n**1. 나라:**\\n\\n*   파리는 프랑스(France)의 수도이자 가장 큰 도시입니다. 프랑스는 유럽 대륙 서부에 위치하며, 유럽 연합(EU) 회원국입니다.\\n\\n**2. 인구 수 (2023년 1월 1일 기준):**\\n\\n*   파리 시 자체의 인구는 약 210만 명입니다. 하지만 파리 대도시권(Grande Paris)은 약 1천만 명 이상의 인구를 포함합니다. 파리 대도시권은 프랑스의 경제, 문화, 교통의 중심지 역할을 합니다.\\n\\n**3. 특산품:**\\n\\n파리는 세계적으로 유명한 패션, 예술, 문화의 중심지인 동시에 다양한 특산품을 자랑하는 도시입니다. 주요 특산품은 다음과 같습니다.\\n\\n*   **패션:** 샤넬(Chanel), 루이비통(Louis Vuitton), 디올(Dior) 등 세계적인 명품 브랜드 본점과 다양한 부티크가 위치해 있습니다. 또한, 에트르(Etre) 등 프랑스 브랜드도 유명합니다.\\n*   **향수:** 프그(Parfums Fragonard), 르 라보(Le Labo) 등 유명 향수 브랜드의 제품을 판매하며, 직접 향수를 만들어보는 체험도 가능합니다.\\n*   **케이크 & 디저트:** 마들렌(Madeleine), 크루아상(Croissant), 에끌레어(Éclair), 마카롱(Macaron) 등 프랑스 전통 빵과 디저트를 맛볼 수 있습니다.  Poulain, Pierre Hermé 등이 유명합니다.\\n*   **초콜릿:** Galatino, Patrick Roger 등 고급 초콜릿 브랜드의 제품을 판매합니다.\\n*   **와인:** 보르도(Bordeaux), 부르고뉴(Burgundy) 등 프랑스 와인 지역의 와인을 판매합니다.\\n*   **기타:** 프랑스 예술가들의 작품, 수공예품, 예술 재료 등 다양한 제품을 구매할 수 있습니다.\\n\\n**참고:** 파리 시내에는 다양한 시장(Marché)이 있어 현지인들이 판매하는 신선한 식료품, 치즈, 빵 등을 구매할 수 있습니다.'"
      ]
     },
     "execution_count": 16,
     "metadata": {},
     "output_type": "execute_result"
    }
   ],
   "source": [
    "completed_chain = {\"province\": capital_chain} | detail_chain\n",
    "completed_chain.invoke({\"country\": \"프랑스\"})"
   ]
  },
  {
   "cell_type": "code",
   "execution_count": 17,
   "id": "9bfa6b93fd44c9ec",
   "metadata": {
    "ExecuteTime": {
     "end_time": "2025-08-20T00:59:41.038992Z",
     "start_time": "2025-08-20T00:59:32.990104Z"
    }
   },
   "outputs": [
    {
     "data": {
      "text/plain": [
       "'## 파리 (Paris) 정보\\n\\n**1. 나라:** 프랑스 (France)\\n\\n파리는 프랑스의 수도이자 가장 큰 도시입니다. 프랑스의 정치, 경제, 문화 중심지로서 유럽의 중요한 도시 중 하나입니다.\\n\\n**2. 인구 수 (2023년 기준):**\\n\\n*   **파리 시내:** 약 210만 명\\n*   **파리 대도시권 (인센 = Île-de-France):** 약 1천 2백만 명 (유럽에서 인구가 가장 많은 도시권 중 하나)\\n\\n**3. 특산품:**\\n\\n파리는 세계적으로 유명한 패션, 예술, 음식의 중심지이기도 합니다. 파리의 대표적인 특산품은 다음과 같습니다.\\n\\n*   **패션:** 샤넬(Chanel), 루이비통(Louis Vuitton), 디올(Dior) 등 명품 브랜드 본점, 에르메스(Hermès) 등 고급 브랜드 매장, 다양한 편집샵, 빈티지 샵 등이 유명합니다.\\n*   **식품:**\\n    *   **마카롱 (Macaron):** 프랑스를 대표하는 디저트, 랑쉬(Ladurée), 피케르(Pierre Hermé) 등 유명 제과점에서 맛볼 수 있습니다.\\n    *   **빵 (Baguette, Croissant 등):** 다양한 종류의 빵을 맛볼 수 있는 빵집이 많습니다.\\n    *   **치즈 (Cheese):** 브리(Brie), 고르곤졸라(Gorgonzola) 등 다양한 종류의 프랑스 치즈를 맛볼 수 있습니다.\\n    *   **와인 (Wine):** 보르도(Bordeaux), 부르고뉴(Burgundy) 등 프랑스 와인 지역의 와인을 맛볼 수 있습니다.\\n    *   **초콜릿 (Chocolate):** 갈레(Galé) 등 고급 초콜릿 브랜드가 유명합니다.\\n*   **기타:**\\n    *   **향수 (Perfume):** 샤넬 No.5, 딥티크(Diptyque) 등 유명 향수 브랜드 제품\\n    *   **각 분야의 예술품:** 그림, 조각, 공예품 등\\n\\n파리는 또한 다양한 공예품, 미술품, 기념품 등을 판매하는 상점들이 많아, 쇼핑을 즐기는 여행자들에게도 매력적인 도시입니다.'"
      ]
     },
     "execution_count": 17,
     "metadata": {},
     "output_type": "execute_result"
    }
   ],
   "source": [
    "# RunnablePassthrough 사용해서 해보기\n",
    "completed_chain = {\"country\": RunnablePassthrough()} | {\"province\": capital_chain} | detail_chain\n",
    "completed_chain.invoke(\"프랑스\")"
   ]
  },
  {
   "cell_type": "markdown",
   "id": "606776c5e98ab6dd",
   "metadata": {},
   "source": [
    "- 만얀 RunnablePassthrough 로 2개를 보내고 싶다면?"
   ]
  },
  {
   "cell_type": "code",
   "execution_count": 18,
   "id": "5fb441b9b726c3c8",
   "metadata": {
    "ExecuteTime": {
     "end_time": "2025-08-20T00:59:44.562801Z",
     "start_time": "2025-08-20T00:59:41.064448Z"
    }
   },
   "outputs": [
    {
     "data": {
      "text/plain": [
       "'## 대한민국 (한국) 정보\\n\\n*   **나라:** 대한민국 (South Korea)\\n*   **인구 수 (2023년 12월 기준):** 약 5,177만 명\\n*   **특산품:** \\n    *   **김:** 한국을 대표하는 발효 해산물로, 다양한 종류와 맛을 자랑합니다.\\n    *   **부산 참치:** 신선하고 맛있는 참치로, 부산의 명물입니다.\\n    *   **돼지고기:** 특히 돼지국밥, 돼지갈비 등 돼지고기 요리가 유명합니다.\\n    *   **다육식물:** 다양한 종류의 다육식물이 인기 있는 식물입니다.\\n    *   **해산물:** 신선한 해산물 요리 (회, 해물찜 등)도 즐겨 먹는 음식입니다.\\n    *   **전통 한복:** 아름다운 전통 의상으로, 한국 문화를 상징합니다.\\n\\n더 궁금한 점이 있다면 언제든지 질문해주세요.'"
      ]
     },
     "execution_count": 18,
     "metadata": {},
     "output_type": "execute_result"
    }
   ],
   "source": [
    "completed_chain = {\"country\": RunnablePassthrough(), \"province\": RunnablePassthrough()} | detail_chain\n",
    "completed_chain.invoke(\n",
    "    {\"country\": \"한국\", \"province\": \"부산\"}\n",
    ")  # RunnablePassthrough 가 2개 이상이면, 각각 적어주어야 한다."
   ]
  },
  {
   "cell_type": "markdown",
   "id": "6b79a5e1dc42fe68",
   "metadata": {},
   "source": [
    "## Recap\n",
    "- ChatOllama\n",
    "- ChatOpenAI\n",
    "- ChatUpstage\n",
    "- PromptValue\n",
    "    - PromptTemplate\n",
    "    - ChatPromptTemplate\n",
    "- OutputParser\n",
    "    - StrOutputParser\n",
    "    - JsonOutputParser\n",
    "- BaseChatModel.with_structured_output(BaseModel)\n",
    "- LCEL"
   ]
  }
 ],
 "metadata": {
  "kernelspec": {
   "display_name": "py311",
   "language": "python",
   "name": "python3"
  },
  "language_info": {
   "codemirror_mode": {
    "name": "ipython",
    "version": 2
   },
   "file_extension": ".py",
   "mimetype": "text/x-python",
   "name": "python",
   "nbconvert_exporter": "python",
   "pygments_lexer": "ipython2",
   "version": "3.11.11"
  }
 },
 "nbformat": 4,
 "nbformat_minor": 5
}
