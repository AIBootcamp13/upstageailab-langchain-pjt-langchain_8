{
 "cells": [
  {
   "cell_type": "markdown",
   "id": "dd2bfe3f51b1babb",
   "metadata": {},
   "source": [
    "## Ollama 로 Langchain 사용해보기"
   ]
  },
  {
   "cell_type": "code",
   "execution_count": 1,
   "id": "2fc895d921d04eb2",
   "metadata": {
    "ExecuteTime": {
     "end_time": "2025-08-21T03:23:48.211544Z",
     "start_time": "2025-08-21T03:23:47.259059Z"
    }
   },
   "outputs": [],
   "source": [
    "from dotenv import load_dotenv\n",
    "from langchain_core.messages import AIMessage, HumanMessage, SystemMessage\n",
    "from langchain_core.output_parsers import JsonOutputParser, StrOutputParser\n",
    "from langchain_core.prompts import ChatPromptTemplate, PromptTemplate\n",
    "from langchain_core.runnables import RunnablePassthrough\n",
    "from langchain_ollama import ChatOllama\n",
    "from langchain_openai import ChatOpenAI\n",
    "from langchain_upstage import ChatUpstage\n",
    "from pydantic import BaseModel, Field"
   ]
  },
  {
   "cell_type": "code",
   "execution_count": 2,
   "id": "initial_id",
   "metadata": {
    "ExecuteTime": {
     "end_time": "2025-08-21T03:24:01.129349Z",
     "start_time": "2025-08-21T03:23:48.215205Z"
    },
    "collapsed": true
   },
   "outputs": [
    {
     "data": {
      "text/plain": [
       "AIMessage(content='한국의 수도는 **서울**입니다.', additional_kwargs={}, response_metadata={'model': 'gemma3:4b', 'created_at': '2025-08-21T03:24:01.120317Z', 'done': True, 'done_reason': 'stop', 'total_duration': 12890218958, 'load_duration': 12431765875, 'prompt_eval_count': 15, 'prompt_eval_duration': 310979084, 'eval_count': 10, 'eval_duration': 146648041, 'model_name': 'gemma3:4b'}, id='run--31123020-81b3-4ef8-ad4c-f9c33a342be7-0', usage_metadata={'input_tokens': 15, 'output_tokens': 10, 'total_tokens': 25})"
      ]
     },
     "execution_count": 2,
     "metadata": {},
     "output_type": "execute_result"
    }
   ],
   "source": [
    "llm = ChatOllama(model=\"gemma3:4b\")\n",
    "llm.invoke(\"한국의 수도를 알려줘\")"
   ]
  },
  {
   "cell_type": "markdown",
   "id": "c33cb0037b2def74",
   "metadata": {},
   "source": [
    "## OpenAI 의 모델로 Langchain 사용해보기"
   ]
  },
  {
   "cell_type": "code",
   "execution_count": 3,
   "id": "139b5649eb788516",
   "metadata": {
    "ExecuteTime": {
     "end_time": "2025-08-21T03:24:07.260227Z",
     "start_time": "2025-08-21T03:24:01.192061Z"
    }
   },
   "outputs": [
    {
     "data": {
      "text/plain": [
       "AIMessage(content='대한민국(남한)의 수도는 서울특별시입니다.  \\n참고로 한반도 전체를 말할 때 북한의 수도는 평양입니다.', additional_kwargs={'refusal': None}, response_metadata={'token_usage': {'completion_tokens': 235, 'prompt_tokens': 13, 'total_tokens': 248, 'completion_tokens_details': {'accepted_prediction_tokens': 0, 'audio_tokens': 0, 'reasoning_tokens': 192, 'rejected_prediction_tokens': 0}, 'prompt_tokens_details': {'audio_tokens': 0, 'cached_tokens': 0}}, 'model_name': 'gpt-5-mini-2025-08-07', 'system_fingerprint': None, 'id': 'chatcmpl-C6qCAEDO8hpWMdWinDQkFiT3atuIZ', 'service_tier': 'default', 'finish_reason': 'stop', 'logprobs': None}, id='run--77d55cf9-92a8-425a-b519-9e55f491df73-0', usage_metadata={'input_tokens': 13, 'output_tokens': 235, 'total_tokens': 248, 'input_token_details': {'audio': 0, 'cache_read': 0}, 'output_token_details': {'audio': 0, 'reasoning': 192}})"
      ]
     },
     "execution_count": 3,
     "metadata": {},
     "output_type": "execute_result"
    }
   ],
   "source": [
    "load_dotenv()  # OPENAI_API_KEY 환경 변수를 가져오기 위해서\n",
    "\n",
    "openai_llm = ChatOpenAI(model=\"gpt-5-mini\")\n",
    "openai_llm.invoke(\"한국의 수도를 알려줘.\")"
   ]
  },
  {
   "cell_type": "markdown",
   "id": "3b645e694e7f08e2",
   "metadata": {},
   "source": [
    "## Upstage 의 모델로 Langchain 사용해보기"
   ]
  },
  {
   "cell_type": "code",
   "execution_count": 4,
   "id": "502266df785ae04e",
   "metadata": {
    "ExecuteTime": {
     "end_time": "2025-08-21T03:24:08.596430Z",
     "start_time": "2025-08-21T03:24:07.274840Z"
    }
   },
   "outputs": [
    {
     "data": {
      "text/plain": [
       "AIMessage(content='한국의 수도는 **서울특별시(서울)**입니다.  \\n\\n서울은 정치, 경제, 문화의 중심지로, 대한민국 정부와 주요 기관이 집중되어 있으며, 역사적 유산(예: 경복궁, 창덕궁)과 현대적 랜드마크(예: N서울타워, 코엑스)가 공존하는 도시입니다.  \\n\\n참고로, 2007년 세종특별자치시가 행정중심복합도시로 건설되면서 일부 중앙행정기관이 이전되었지만, 여전히 **공식 수도는 서울**로 유지되고 있습니다.', additional_kwargs={'refusal': None}, response_metadata={'token_usage': {'completion_tokens': 92, 'prompt_tokens': 18, 'total_tokens': 110, 'completion_tokens_details': {'accepted_prediction_tokens': 0, 'audio_tokens': 0, 'reasoning_tokens': 0, 'rejected_prediction_tokens': 0}, 'prompt_tokens_details': {'audio_tokens': 0, 'cached_tokens': 0}}, 'model_name': 'solar-pro2-250710', 'system_fingerprint': None, 'id': '2f390a7a-05bc-4ba3-ad95-411e9ec506d9', 'service_tier': None, 'finish_reason': 'stop', 'logprobs': None}, id='run--1fff9c95-f085-48cc-8947-4d3f462d2553-0', usage_metadata={'input_tokens': 18, 'output_tokens': 92, 'total_tokens': 110, 'input_token_details': {'audio': 0, 'cache_read': 0}, 'output_token_details': {'audio': 0, 'reasoning': 0}})"
      ]
     },
     "execution_count": 4,
     "metadata": {},
     "output_type": "execute_result"
    }
   ],
   "source": [
    "upstage_llm = ChatUpstage(model=\"solar-pro2\")\n",
    "upstage_llm.invoke(\"한국의 수도는?\")"
   ]
  },
  {
   "cell_type": "markdown",
   "id": "468ea853c11dd3f1",
   "metadata": {},
   "source": [
    "## Prompt 와 함께 사용해보기"
   ]
  },
  {
   "cell_type": "code",
   "execution_count": 5,
   "id": "f4b342eb43a45a40",
   "metadata": {
    "ExecuteTime": {
     "end_time": "2025-08-21T03:24:08.615102Z",
     "start_time": "2025-08-21T03:24:08.612208Z"
    }
   },
   "outputs": [
    {
     "name": "stdout",
     "output_type": "stream",
     "text": [
      "자료형: <class 'langchain_core.prompt_values.StringPromptValue'>\n",
      "text='우리나라의 수도가 어디야?'\n"
     ]
    }
   ],
   "source": [
    "prompt_template = PromptTemplate(template=\"{country}의 수도가 어디야?\", input_variables=[\"country\"])\n",
    "\n",
    "# country 대신에 넣어준 \"우리나라\"가 들어간 PromptValue 를 반환\n",
    "result = prompt_template.invoke({\"country\": \"우리나라\"})\n",
    "print(\"자료형:\", type(result))\n",
    "print(result)"
   ]
  },
  {
   "cell_type": "code",
   "execution_count": 6,
   "id": "87af81af3c02c76",
   "metadata": {
    "ExecuteTime": {
     "end_time": "2025-08-21T03:24:09.051425Z",
     "start_time": "2025-08-21T03:24:08.619597Z"
    }
   },
   "outputs": [
    {
     "data": {
      "text/plain": [
       "AIMessage(content='우리나라의 수도는 **서울**입니다.', additional_kwargs={}, response_metadata={'model': 'gemma3:4b', 'created_at': '2025-08-21T03:24:09.046718Z', 'done': True, 'done_reason': 'stop', 'total_duration': 424320541, 'load_duration': 131622000, 'prompt_eval_count': 17, 'prompt_eval_duration': 144061916, 'eval_count': 11, 'eval_duration': 148263250, 'model_name': 'gemma3:4b'}, id='run--1a426e76-4db1-4d42-9298-d22d64e3154e-0', usage_metadata={'input_tokens': 17, 'output_tokens': 11, 'total_tokens': 28})"
      ]
     },
     "execution_count": 6,
     "metadata": {},
     "output_type": "execute_result"
    }
   ],
   "source": [
    "# BaseChatModel 은 invoke 함수에 PromptValue 또는 str 을 받을 수 있다!\n",
    "llm.invoke(result)"
   ]
  },
  {
   "cell_type": "code",
   "execution_count": 7,
   "id": "b2b35761035edfd1",
   "metadata": {
    "ExecuteTime": {
     "end_time": "2025-08-21T03:24:09.910584Z",
     "start_time": "2025-08-21T03:24:09.070693Z"
    }
   },
   "outputs": [
    {
     "data": {
      "text/plain": [
       "AIMessage(content='이탈리아의 수도는 로마입니다. \\n\\n로마는 오랜 역사와 문화의 중심지이며, 콜로세움, 포로 로마노, 바티칸 등 다양한 유적지와 명소가 있습니다.', additional_kwargs={}, response_metadata={'model': 'gemma3:4b', 'created_at': '2025-08-21T03:24:09.908431Z', 'done': True, 'done_reason': 'stop', 'total_duration': 835649667, 'load_duration': 84971625, 'prompt_eval_count': 18, 'prompt_eval_duration': 58683000, 'eval_count': 48, 'eval_duration': 691504625, 'model_name': 'gemma3:4b'}, id='run--4ca72e3f-d063-4457-91ca-9e43a146584f-0', usage_metadata={'input_tokens': 18, 'output_tokens': 48, 'total_tokens': 66})"
      ]
     },
     "execution_count": 7,
     "metadata": {},
     "output_type": "execute_result"
    }
   ],
   "source": [
    "# 최종적으로\n",
    "llm.invoke(prompt_template.invoke({\"country\": \"이탈리아\"}))"
   ]
  },
  {
   "cell_type": "markdown",
   "id": "f6f71fd186fe155",
   "metadata": {},
   "source": [
    "- llm.invoke 에는 PromptValue 말고도, BaseMessage 를 상속 받는 AIMessage, HumanMessage, SystemMessage, ToolMessage 등을 가지고 list 를 만들어 넣어줄 수 있다."
   ]
  },
  {
   "cell_type": "code",
   "execution_count": 8,
   "id": "e4372a9d74ec5a6c",
   "metadata": {
    "ExecuteTime": {
     "end_time": "2025-08-21T03:24:10.160781Z",
     "start_time": "2025-08-21T03:24:09.926445Z"
    }
   },
   "outputs": [
    {
     "data": {
      "text/plain": [
       "AIMessage(content='파리', additional_kwargs={}, response_metadata={'model': 'gemma3:4b', 'created_at': '2025-08-21T03:24:10.158746Z', 'done': True, 'done_reason': 'stop', 'total_duration': 230751000, 'load_duration': 87955792, 'prompt_eval_count': 74, 'prompt_eval_duration': 106231750, 'eval_count': 3, 'eval_duration': 28039917, 'model_name': 'gemma3:4b'}, id='run--8234cb98-e81e-4d6e-9e73-9b4549ab8fe6-0', usage_metadata={'input_tokens': 74, 'output_tokens': 3, 'total_tokens': 77})"
      ]
     },
     "execution_count": 8,
     "metadata": {},
     "output_type": "execute_result"
    }
   ],
   "source": [
    "message_list = [\n",
    "    SystemMessage(\n",
    "        content=\"당신의 세계 여러 나라들의 수도를 알고 있는 지리학자입니다. 사용자가 특정 나라의 수도를 물어보면 그 나라의 수도를 알려주세요.\"\n",
    "    ),\n",
    "    HumanMessage(content=\"한국의 수도가 어디야?\"),\n",
    "    AIMessage(content=\"서울\"),\n",
    "    HumanMessage(content=\"프랑스의 수도가 어디야?\"),\n",
    "]\n",
    "\n",
    "llm.invoke(message_list)"
   ]
  },
  {
   "cell_type": "markdown",
   "id": "e5ba070ce00d8d9b",
   "metadata": {},
   "source": [
    "- 좀 더 langchain 스럽게 작성해보기"
   ]
  },
  {
   "cell_type": "code",
   "execution_count": 9,
   "id": "f18cdbe285696213",
   "metadata": {
    "ExecuteTime": {
     "end_time": "2025-08-21T03:24:10.174573Z",
     "start_time": "2025-08-21T03:24:10.171118Z"
    }
   },
   "outputs": [
    {
     "data": {
      "text/plain": [
       "ChatPromptValue(messages=[SystemMessage(content='당신의 세계 여러 나라들의 수도를 알고 있는 지리학자입니다. 사용자가 특정 나라의 수도를 물어보면 그 나라의 수도를 알려주세요.', additional_kwargs={}, response_metadata={}), HumanMessage(content='한국의 수도가 어디야?', additional_kwargs={}, response_metadata={}), AIMessage(content='서울', additional_kwargs={}, response_metadata={}), HumanMessage(content='스페인의 수도가 어디야?', additional_kwargs={}, response_metadata={})])"
      ]
     },
     "execution_count": 9,
     "metadata": {},
     "output_type": "execute_result"
    }
   ],
   "source": [
    "chat_prompt_template = ChatPromptTemplate.from_messages(\n",
    "    [\n",
    "        (\n",
    "            \"system\",\n",
    "            \"당신의 세계 여러 나라들의 수도를 알고 있는 지리학자입니다. 사용자가 특정 나라의 수도를 물어보면 그 나라의 수도를 알려주세요.\",\n",
    "        ),\n",
    "        (\"human\", \"한국의 수도가 어디야?\"),\n",
    "        (\"ai\", \"서울\"),\n",
    "        (\"human\", \"{country}의 수도가 어디야?\"),  # country 를 넣기 위해서는 tuple list 로 넣어주어야 한다.\n",
    "    ]\n",
    ")\n",
    "\n",
    "chat_prompt_template.invoke({\"country\": \"스페인\"})"
   ]
  },
  {
   "cell_type": "markdown",
   "id": "59bc93b69608eeb9",
   "metadata": {},
   "source": [
    "## AIMessage 에서 필요한 부분(content)만 가져오기"
   ]
  },
  {
   "cell_type": "markdown",
   "id": "5190fb6befa94066",
   "metadata": {},
   "source": [
    "### StrOutputParser"
   ]
  },
  {
   "cell_type": "code",
   "execution_count": 10,
   "id": "d081e89df0088471",
   "metadata": {
    "ExecuteTime": {
     "end_time": "2025-08-21T03:24:10.467294Z",
     "start_time": "2025-08-21T03:24:10.184125Z"
    }
   },
   "outputs": [
    {
     "data": {
      "text/plain": [
       "'한국의 수도는 서울입니다. 😊\\n'"
      ]
     },
     "execution_count": 10,
     "metadata": {},
     "output_type": "execute_result"
    }
   ],
   "source": [
    "output_parser = StrOutputParser()\n",
    "\n",
    "answer = output_parser.invoke(llm.invoke(\"한국의 수도는 어디야?\"))\n",
    "answer"
   ]
  },
  {
   "cell_type": "code",
   "execution_count": 11,
   "id": "930ff281bcfc6803",
   "metadata": {
    "ExecuteTime": {
     "end_time": "2025-08-21T03:24:10.707710Z",
     "start_time": "2025-08-21T03:24:10.477694Z"
    }
   },
   "outputs": [
    {
     "data": {
      "text/plain": [
       "'방콕'"
      ]
     },
     "execution_count": 11,
     "metadata": {},
     "output_type": "execute_result"
    }
   ],
   "source": [
    "answer = output_parser.invoke(llm.invoke(chat_prompt_template.invoke({\"country\": \"태국\"})))\n",
    "answer"
   ]
  },
  {
   "cell_type": "markdown",
   "id": "f8f3dcf9b0b67e24",
   "metadata": {},
   "source": [
    "### JsonOutputParser\n",
    "- _이것을 사용하기 보다는 pydantic 을 활용한 StructuredOutputParser 를 사용하는 것이 더 좋음_"
   ]
  },
  {
   "cell_type": "code",
   "execution_count": 12,
   "id": "76cbd36caf809fd8",
   "metadata": {
    "ExecuteTime": {
     "end_time": "2025-08-21T03:24:11.433959Z",
     "start_time": "2025-08-21T03:24:10.720190Z"
    }
   },
   "outputs": [
    {
     "name": "stdout",
     "output_type": "stream",
     "text": [
      "before\n",
      "content='```json\\n{\\n  \"country\": \"Korea (South Korea)\",\\n  \"capital\": \"Seoul\",\\n  \"currency\": \"Korean Won (KRW)\"\\n}\\n```' additional_kwargs={} response_metadata={'model': 'gemma3:4b', 'created_at': '2025-08-21T03:24:11.431008Z', 'done': True, 'done_reason': 'stop', 'total_duration': 708105500, 'load_duration': 81801875, 'prompt_eval_count': 33, 'prompt_eval_duration': 61388625, 'eval_count': 40, 'eval_duration': 564561292, 'model_name': 'gemma3:4b'} id='run--97f18d4e-0a54-4d31-bc45-2900440b2f5f-0' usage_metadata={'input_tokens': 33, 'output_tokens': 40, 'total_tokens': 73}\n",
      "\n",
      "after\n"
     ]
    },
    {
     "data": {
      "text/plain": [
       "{'country': 'Korea (South Korea)',\n",
       " 'capital': 'Seoul',\n",
       " 'currency': 'Korean Won (KRW)'}"
      ]
     },
     "execution_count": 12,
     "metadata": {},
     "output_type": "execute_result"
    }
   ],
   "source": [
    "json_output_parser = JsonOutputParser()\n",
    "\n",
    "currency_template = PromptTemplate(\n",
    "    template=\"\"\"{country}의 다음 정보를 알려줘.\n",
    "1. capital 2. currency\n",
    "Json 형식으로 작성해줘.\n",
    "\"\"\",\n",
    "    input_variables=[\"country\"],\n",
    ")\n",
    "ai_message = llm.invoke(currency_template.invoke({\"country\": \"한국\"}))\n",
    "print(\"before\")\n",
    "print(ai_message)\n",
    "print()\n",
    "\n",
    "print(\"after\")\n",
    "json_output_parser.invoke(ai_message)\n",
    "# json 형식으로 작성해달라고 했으나, 때때로 그 외의 내용을 덧붙일 때가 있을 수 있다! -> JsonOutputParser 는 에러"
   ]
  },
  {
   "cell_type": "markdown",
   "id": "54cccc26c7e25645",
   "metadata": {
    "ExecuteTime": {
     "end_time": "2025-08-19T16:52:11.614562Z",
     "start_time": "2025-08-19T16:52:11.612919Z"
    }
   },
   "source": [
    "#### Pydantic 을 사용해서 더 안전하게 Json 형식 만들기"
   ]
  },
  {
   "cell_type": "code",
   "execution_count": 13,
   "id": "94329d3a7eac98a0",
   "metadata": {
    "ExecuteTime": {
     "end_time": "2025-08-21T03:24:12.099765Z",
     "start_time": "2025-08-21T03:24:11.439166Z"
    }
   },
   "outputs": [
    {
     "name": "stdout",
     "output_type": "stream",
     "text": [
      "자료형: <class '__main__.CountryDetail'>\n",
      "capital='서울특별시 (Seoul)' currency='Korean Won (KRW)'\n"
     ]
    }
   ],
   "source": [
    "class CountryDetail(BaseModel):\n",
    "    capital: str = Field(description=\"수도\")\n",
    "    currency: str = Field(description=\"통화 단위\")\n",
    "\n",
    "\n",
    "structured_llm = llm.with_structured_output(CountryDetail)\n",
    "answer = structured_llm.invoke(currency_template.invoke({\"country\": \"한국\"}))\n",
    "\n",
    "print(\"자료형:\", type(answer))\n",
    "print(answer)"
   ]
  },
  {
   "cell_type": "markdown",
   "id": "5dfea777369d4ad3",
   "metadata": {},
   "source": [
    "## 비로소 Chain 만들어보기"
   ]
  },
  {
   "cell_type": "code",
   "execution_count": 14,
   "id": "c09911df8d4df97a",
   "metadata": {
    "ExecuteTime": {
     "end_time": "2025-08-21T03:24:12.382487Z",
     "start_time": "2025-08-21T03:24:12.104297Z"
    }
   },
   "outputs": [
    {
     "name": "stdout",
     "output_type": "stream",
     "text": [
      "<class 'langchain_core.runnables.base.RunnableSequence'>\n",
      "result of chain: 프랑스의 수도는 파리입니다.\n"
     ]
    }
   ],
   "source": [
    "chain = prompt_template | llm | output_parser\n",
    "print(type(chain))\n",
    "print(\"result of chain:\", chain.invoke({\"country\": \"프랑스\"}))  # chain 도 invoke 함수가 있는 Runnable!"
   ]
  },
  {
   "cell_type": "markdown",
   "id": "8d764ddf08b6f1de",
   "metadata": {},
   "source": [
    "### Chain 2개 연결해보기!"
   ]
  },
  {
   "cell_type": "code",
   "execution_count": 15,
   "id": "33b0f320096964",
   "metadata": {
    "ExecuteTime": {
     "end_time": "2025-08-21T03:24:12.557110Z",
     "start_time": "2025-08-21T03:24:12.388347Z"
    }
   },
   "outputs": [
    {
     "data": {
      "text/plain": [
       "'서울'"
      ]
     },
     "execution_count": 15,
     "metadata": {},
     "output_type": "execute_result"
    }
   ],
   "source": [
    "capital_prompt = PromptTemplate(\n",
    "    template=\"{country}의 수도를 알려줘. 수도 한 단어만 작성해줘.\", input_variables=[\"country\"]\n",
    ")\n",
    "capital_chain = capital_prompt | llm | output_parser\n",
    "capital_chain.invoke({\"country\": \"한국\"})"
   ]
  },
  {
   "cell_type": "code",
   "execution_count": 16,
   "id": "f99b1733f321385a",
   "metadata": {
    "ExecuteTime": {
     "end_time": "2025-08-21T03:24:18.471879Z",
     "start_time": "2025-08-21T03:24:12.567625Z"
    }
   },
   "outputs": [
    {
     "data": {
      "text/plain": [
       "'## 서울에 대한 정보\\n\\n**1. 나라:** 대한민국 (South Korea)\\n\\n**2. 인구 수 (2023년 12월 기준):** 약 977만 명 (서울시 전체)\\n\\n*   서울특별시는 대한민국에서 가장 인구가 많은 도시이며, 수도입니다.\\n*   서울시 내에는 다양한 구(區)로 나뉘어져 있습니다.\\n\\n**3. 특산품:**\\n\\n서울은 다양한 특산품을 자랑하지만, 대표적인 특산품은 다음과 같습니다.\\n\\n*   **수원 화성토:** 화성토는 수원 화성의 건축 자재로, 물에 젖어도 잘 마르는 특성 덕분에 건조한 환경에서 재배되는 작물 재배에 이상적입니다. 최근에는 건강식품으로도 인기를 얻고 있습니다.\\n*   **용산 참기름:** 오랜 전통을 자랑하는 참기름으로, 고급스러운 풍미로 널리 알려져 있습니다.\\n*   **개성 만두:** 서울의 명물로, 얇은 반죽에 속이 꽉 찬 만두로, 간식으로 즐겨 먹습니다.\\n*   **남대문 시장 특산물:** 떡, 약과, 쌀 등 다양한 전통적인 상품들을 판매합니다.\\n*   **서울 계란빵:** 달콤한 빵으로, 서울의 대표적인 길거리 음식 중 하나입니다.\\n*   **각 지역의 특색 있는 음식:** 종로의 빈대떡, 명동의 떡볶이, 이태원의 스테이크 등 각 지역마다 특색 있는 음식을 즐길 수 있습니다.\\n\\n더 자세한 정보는 서울시 공식 웹사이트([https://www.seoul.go.kr/](https://www.seoul.go.kr/))에서 확인하실 수 있습니다.'"
      ]
     },
     "execution_count": 16,
     "metadata": {},
     "output_type": "execute_result"
    }
   ],
   "source": [
    "detail_prompt = PromptTemplate(\n",
    "    template=\"{province}에 대해서 나라, 인구 수, 특산품 순으로 작성해줘.\", input_variables=[\"province\"]\n",
    ")\n",
    "detail_chain = detail_prompt | llm | output_parser\n",
    "detail_chain.invoke({\"province\": \"서울\"})"
   ]
  },
  {
   "cell_type": "code",
   "execution_count": 17,
   "id": "574b488062902c",
   "metadata": {
    "ExecuteTime": {
     "end_time": "2025-08-21T03:24:24.885703Z",
     "start_time": "2025-08-21T03:24:18.501423Z"
    }
   },
   "outputs": [
    {
     "data": {
      "text/plain": [
       "'## 파리 (Paris) 정보\\n\\n**1. 나라:** 프랑스 (France)\\n\\n파리는 프랑스共和国 (프랑스 공화국)의 수도이자 가장 큰 도시입니다. 프랑스 북쪽에 위치하고 있으며, 유럽의 중심 도시 중 하나입니다.\\n\\n**2. 인구 수 (2023년 기준):**\\n\\n*   **파리 시 자체:** 약 210만 명\\n*   **파리 대도시권 (인터빌리시 파리):** 약 1천만 명 (유럽에서 인구가 가장 많은 대도시권 중 하나)\\n\\n**3. 특산품:**\\n\\n파리는 세계적으로 유명한 패션, 예술, 문화의 중심지이기도 하지만, 다양한 특산품 또한 자랑합니다.\\n\\n*   **패션:** 루이비통(Louis Vuitton), 샤넬(Chanel), 디올(Dior), 베르사체(Versace) 등 세계적인 명품 브랜드의 본점 및 매장이 많습니다.\\n*   **향수:** 프그 (Parfums Fragonard), 르 라보 (Le Labo) 등 유명 향수 브랜드의 향수를 구매할 수 있습니다.\\n*   **빵 및 과자류:** 크루아상 (Croissant), 마들렌 (Macaron), 에스카르고 (Escargot) 등 프랑스 전통 빵과 과자를 맛볼 수 있습니다.\\n*   **와인:** 보르도 (Bordeaux), 샹파뉴 (Champagne) 등 프랑스 와인을 구매할 수 있습니다.\\n*   **기타:** 푸틴 (Pâté de foie gras - 전육), 제누체 (Jelly), 바게트 (Baguette) 등 다양한 프랑스식 디저트 및 식재료를 구매할 수 있습니다.\\n\\n파리 여행 시, 이러한 특산품들을 구경하고 구매하는 것도 좋은 경험이 될 것입니다.'"
      ]
     },
     "execution_count": 17,
     "metadata": {},
     "output_type": "execute_result"
    }
   ],
   "source": [
    "completed_chain = {\"province\": capital_chain} | detail_chain\n",
    "completed_chain.invoke({\"country\": \"프랑스\"})"
   ]
  },
  {
   "cell_type": "code",
   "execution_count": 18,
   "id": "9bfa6b93fd44c9ec",
   "metadata": {
    "ExecuteTime": {
     "end_time": "2025-08-21T03:24:31.241766Z",
     "start_time": "2025-08-21T03:24:24.916584Z"
    }
   },
   "outputs": [
    {
     "data": {
      "text/plain": [
       "'## 파리 (Paris) 정보\\n\\n**1. 나라:** 프랑스 (France)\\n\\n**2. 인구 수 (2023년 기준):**\\n\\n*   파리 시내: 약 210만 명\\n*   파리 대도시권 (인구권): 약 1천만 명 (유럽에서 가장 인구가 많은 도시권 중 하나)\\n\\n**3. 특산품:**\\n\\n파리는 세계적으로 유명한 다양한 특산품을 자랑합니다. 대표적인 특산품은 다음과 같습니다.\\n\\n*   **케이크:** 마카롱 (Macaron), 에끌레르 (Éclair), 미스티끄 (Mousse) 등 다양한 종류의 프랑스 케이크는 파리에서 가장 유명한 디저트입니다.\\n*   **차:** 프랑스는 차 문화가 발달되어 있으며, 특히 파리에서는 다양한 종류의 고급 차를 판매하는 전문점들이 많습니다.\\n*   **와인:** 보르도,  Burgunday 등 프랑스 주요 와인 생산 지역에서 생산된 와인이 파리 곳곳의 레스토랑과 주점에서 판매됩니다.\\n*   **향수:** 파리는 향수 산업의 중심지 중 하나이며, 샤넬, 디올, 가르농 등 유명 향수 브랜드의 본점이 위치해 있습니다.\\n*   **빵:** 크루아상 (Croissant), 바게트 (Baguette) 등 프랑스 대표 빵은 파리에서 쉽게 구매할 수 있습니다.\\n*   **주얼리:** 루이 빈 (Louis Vuitton) 등 유명 명품 브랜드의 매장이 파리에 많습니다.\\n*   **시트 (Silk):** 파리는 과거부터 고급 시트 생산지로 유명했습니다.\\n\\n**참고:** 파리는 또한 예술, 패션, 문화 등 다양한 분야에서 세계적인 중심지이기도 합니다.\\n\\n더 궁금한 점이 있으시면 언제든지 질문해주세요.'"
      ]
     },
     "execution_count": 18,
     "metadata": {},
     "output_type": "execute_result"
    }
   ],
   "source": [
    "# RunnablePassthrough 사용해서 해보기\n",
    "completed_chain = {\"country\": RunnablePassthrough()} | {\"province\": capital_chain} | detail_chain\n",
    "completed_chain.invoke(\"프랑스\")"
   ]
  },
  {
   "cell_type": "markdown",
   "id": "606776c5e98ab6dd",
   "metadata": {},
   "source": [
    "- 만얀 RunnablePassthrough 로 2개를 보내고 싶다면?"
   ]
  },
  {
   "cell_type": "code",
   "execution_count": 19,
   "id": "5fb441b9b726c3c8",
   "metadata": {
    "ExecuteTime": {
     "end_time": "2025-08-21T03:24:35.858274Z",
     "start_time": "2025-08-21T03:24:31.279040Z"
    }
   },
   "outputs": [
    {
     "data": {
      "text/plain": [
       "\"## 한국 (부산) 정보\\n\\n**나라:** 대한민국 (South Korea)\\n\\n**인구 수 (2023년 12월 기준):** 약 5,177만 명 (대한민국 전체) - 부산광역시 기준\\n\\n**특산품:**\\n\\n*   **돼지고기:** 부산은 '미진장(米珍章)'이라는 돼지고기 전문점이 유명하며, 돼지고기 맛집이 많습니다.\\n*   **해산물:** 지리적으로 해양 도시답게 신선한 해산물 (회, 해산물 탕, 굴, 조개 등)이 유명합니다.\\n*   **다시마:** 다시마는 부산에서 많이 생산되는 해조류입니다.\\n*   **가자미:** 가자미는 부산의 대표적인 해산물로, 특히 생으로 먹는 가자미회가 유명합니다.\\n*   **밀면:** 부산의 대표적인 음식으로, 밀가루를 삶아 만든 면에 육수를 부어 먹는 음식입니다.\\n*   **전:** 부산의 길거리 음식으로, 다양한 해산물이나 채소를 넣어 만든 전이 인기가 많습니다.\\n*   **해운대 케밥:** 해운대 시장의 명물로, 닭고기를 양념에 재워 구워 만든 케밥입니다.\\n\\n더 궁금한 점이 있다면 언제든지 질문해주세요.\""
      ]
     },
     "execution_count": 19,
     "metadata": {},
     "output_type": "execute_result"
    }
   ],
   "source": [
    "completed_chain = {\"country\": RunnablePassthrough(), \"province\": RunnablePassthrough()} | detail_chain\n",
    "completed_chain.invoke(\n",
    "    {\"country\": \"한국\", \"province\": \"부산\"}\n",
    ")  # RunnablePassthrough 가 2개 이상이면, 각각 적어주어야 한다."
   ]
  },
  {
   "cell_type": "markdown",
   "id": "6b79a5e1dc42fe68",
   "metadata": {},
   "source": [
    "## Recap\n",
    "- ChatOllama\n",
    "- ChatOpenAI\n",
    "- ChatUpstage\n",
    "- PromptValue\n",
    "    - PromptTemplate\n",
    "    - ChatPromptTemplate\n",
    "- OutputParser\n",
    "    - StrOutputParser\n",
    "    - JsonOutputParser\n",
    "- BaseChatModel.with_structured_output(BaseModel)\n",
    "- LCEL"
   ]
  }
 ],
 "metadata": {
  "kernelspec": {
   "display_name": "py311",
   "language": "python",
   "name": "python3"
  },
  "language_info": {
   "codemirror_mode": {
    "name": "ipython",
    "version": 2
   },
   "file_extension": ".py",
   "mimetype": "text/x-python",
   "name": "python",
   "nbconvert_exporter": "python",
   "pygments_lexer": "ipython2",
   "version": "3.11.11"
  }
 },
 "nbformat": 4,
 "nbformat_minor": 5
}
