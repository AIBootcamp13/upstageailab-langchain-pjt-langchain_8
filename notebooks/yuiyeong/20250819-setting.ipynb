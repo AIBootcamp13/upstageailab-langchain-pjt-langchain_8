{
 "cells": [
  {
   "cell_type": "markdown",
   "id": "b2202c25cfc395f8",
   "metadata": {},
   "source": "# 환경 설정 테스트"
  },
  {
   "cell_type": "code",
   "execution_count": 1,
   "id": "2912b64619337e9d",
   "metadata": {
    "ExecuteTime": {
     "end_time": "2025-08-19T08:27:38.004682Z",
     "start_time": "2025-08-19T08:27:37.993088Z"
    }
   },
   "outputs": [
    {
     "name": "stdout",
     "output_type": "stream",
     "text": [
      "OPENAI_API_KEY: sk-proj-XXX\n",
      "UPSTAGE_API_KEY: up_XXX\n"
     ]
    }
   ],
   "source": [
    "from src import config\n",
    "\n",
    "\n",
    "print(\"OPENAI_API_KEY:\", config.OPENAI_API_KEY)\n",
    "print(\"UPSTAGE_API_KEY:\", config.UPSTAGE_API_KEY)"
   ]
  }
 ],
 "metadata": {
  "kernelspec": {
   "display_name": "Python 3",
   "language": "python",
   "name": "python3"
  },
  "language_info": {
   "codemirror_mode": {
    "name": "ipython",
    "version": 2
   },
   "file_extension": ".py",
   "mimetype": "text/x-python",
   "name": "python",
   "nbconvert_exporter": "python",
   "pygments_lexer": "ipython2",
   "version": "2.7.6"
  }
 },
 "nbformat": 4,
 "nbformat_minor": 5
}
